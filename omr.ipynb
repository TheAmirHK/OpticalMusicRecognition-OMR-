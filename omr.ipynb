{
  "nbformat": 4,
  "nbformat_minor": 0,
  "metadata": {
    "colab": {
      "provenance": [],
      "authorship_tag": "ABX9TyOwRm1AcdJ6LKDhu2CdXisn",
      "include_colab_link": true
    },
    "kernelspec": {
      "name": "python3",
      "display_name": "Python 3"
    },
    "language_info": {
      "name": "python"
    }
  },
  "cells": [
    {
      "cell_type": "markdown",
      "metadata": {
        "id": "view-in-github",
        "colab_type": "text"
      },
      "source": [
        "<a href=\"https://colab.research.google.com/github/TheAmirHK/OpticalMusicRecognition-OMR-/blob/main/omr.ipynb\" target=\"_parent\"><img src=\"https://colab.research.google.com/assets/colab-badge.svg\" alt=\"Open In Colab\"/></a>"
      ]
    },
    {
      "cell_type": "code",
      "execution_count": null,
      "metadata": {
        "id": "Sgb638NUiL3s"
      },
      "outputs": [],
      "source": [
        "!pip install pymupdf\n"
      ]
    },
    {
      "cell_type": "code",
      "source": [
        "import zipfile\n",
        "import fitz\n",
        "import cv2\n",
        "import os"
      ],
      "metadata": {
        "id": "MRtiawpwi2T5"
      },
      "execution_count": 2,
      "outputs": []
    },
    {
      "cell_type": "code",
      "source": [
        "# ---------------------- STEP 1: DOWNLOAD DATASET ---------------------- #\n"
      ],
      "metadata": {
        "id": "KqkofjBYio_z"
      },
      "execution_count": null,
      "outputs": []
    },
    {
      "cell_type": "code",
      "source": [
        "# ---------------------- STEP 2: PREPROCESS SHEET ---------------------- #\n",
        "\n",
        "pdf_file = 'sample.pdf'\n",
        "\n",
        "\n",
        "if not os.path.exists(pdf_file):\n",
        "    print(f\"Error: File '{pdf_file}' not found.\")\n",
        "else:\n",
        "    try:\n",
        "        doc = fitz.open(pdf_file)\n",
        "\n",
        "        for page_num in range(doc.page_count):\n",
        "            page = doc[page_num]\n",
        "\n",
        "            zoom_x = 2\n",
        "            zoom_y = 2\n",
        "            mat = fitz.Matrix(zoom_x, zoom_y)\n",
        "            pix = page.get_pixmap(matrix=mat)\n",
        "\n",
        "            image_path = f\"page_{page_num + 1}_highres.png\"\n",
        "            pix.save(image_path)\n",
        "            print(f\"Saved high-resolution page {page_num + 1} as {image_path}\")\n",
        "\n",
        "            img = cv2.imread(image_path, cv2.IMREAD_GRAYSCALE)\n",
        "            if img is not None:\n",
        "                edges = cv2.Canny(img, 50, 150)\n",
        "\n",
        "                cv2.imwrite(f\"edges_page_{page_num + 1}_highres.png\", edges)\n",
        "                print(f\"Analyzed page {page_num + 1}\")\n",
        "\n",
        "            else:\n",
        "                print(f\"Error loading image: {image_path}\")\n",
        "\n",
        "    except Exception as e:\n",
        "        print(f\"An error occurred: {e}\")"
      ],
      "metadata": {
        "colab": {
          "base_uri": "https://localhost:8080/"
        },
        "id": "4Wlyyiphimdy",
        "outputId": "0e65b3c6-81dc-4bb5-e678-6dcac3f5b18b"
      },
      "execution_count": 3,
      "outputs": [
        {
          "output_type": "stream",
          "name": "stdout",
          "text": [
            "Saved high-resolution page 1 as page_1_highres.png\n",
            "Analyzed page 1\n",
            "Saved high-resolution page 2 as page_2_highres.png\n",
            "Analyzed page 2\n",
            "Saved high-resolution page 3 as page_3_highres.png\n",
            "Analyzed page 3\n",
            "Saved high-resolution page 4 as page_4_highres.png\n",
            "Analyzed page 4\n",
            "Saved high-resolution page 5 as page_5_highres.png\n",
            "Analyzed page 5\n",
            "Saved high-resolution page 6 as page_6_highres.png\n",
            "Analyzed page 6\n",
            "Saved high-resolution page 7 as page_7_highres.png\n",
            "Analyzed page 7\n"
          ]
        }
      ]
    },
    {
      "cell_type": "code",
      "source": [
        "# ---------------------- STEP 3: DETECT NOTES ---------------------- #\n"
      ],
      "metadata": {
        "id": "VVof1n0limbJ"
      },
      "execution_count": null,
      "outputs": []
    },
    {
      "cell_type": "code",
      "source": [
        "# ---------------------- STEP 4: TRAIN CNN MODEL ---------------------- #\n"
      ],
      "metadata": {
        "id": "n_Vutku5imYe"
      },
      "execution_count": null,
      "outputs": []
    },
    {
      "cell_type": "code",
      "source": [
        "# ---------------------- STEP 5: CONVERT NOTES TO MIDI ---------------------- #\n"
      ],
      "metadata": {
        "id": "-OJj1WpLimVq"
      },
      "execution_count": null,
      "outputs": []
    },
    {
      "cell_type": "code",
      "source": [
        "# ---------------------- STEP 6: PLAY MIDI ---------------------- #\n"
      ],
      "metadata": {
        "id": "L-iZ1wZtimS6"
      },
      "execution_count": null,
      "outputs": []
    },
    {
      "cell_type": "code",
      "source": [],
      "metadata": {
        "id": "PYhuMX4aimP6"
      },
      "execution_count": null,
      "outputs": []
    },
    {
      "cell_type": "code",
      "source": [],
      "metadata": {
        "id": "uA4D7cYnimM5"
      },
      "execution_count": null,
      "outputs": []
    },
    {
      "cell_type": "code",
      "source": [],
      "metadata": {
        "id": "BQQgYZYfimKC"
      },
      "execution_count": null,
      "outputs": []
    }
  ]
}